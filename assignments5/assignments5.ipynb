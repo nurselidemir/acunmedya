{
 "cells": [
  {
   "cell_type": "code",
   "execution_count": 1,
   "id": "bf9a2a7a-d16b-4b10-a209-79ae3e8a1b17",
   "metadata": {},
   "outputs": [],
   "source": [
    "import numpy as np"
   ]
  },
  {
   "cell_type": "markdown",
   "id": "f78b64e6-a8f0-445f-a428-5f1097893c01",
   "metadata": {},
   "source": [
    "## np.array() - NumPy dizisi oluşturmak için kullanılır."
   ]
  },
  {
   "cell_type": "code",
   "execution_count": 5,
   "id": "40d04afb-d43f-47b5-8962-a82e6a576078",
   "metadata": {},
   "outputs": [
    {
     "name": "stdout",
     "output_type": "stream",
     "text": [
      "np.array() Örneği: [1 2 3 4 5]\n"
     ]
    }
   ],
   "source": [
    "arr = np.array([1, 2, 3, 4, 5])\n",
    "print(\"np.array() Örneği:\", arr)"
   ]
  },
  {
   "cell_type": "markdown",
   "id": "4d26c060-f783-499a-9bb7-297c9a51eb80",
   "metadata": {},
   "source": [
    "##  np.arange() - Aralıkta Değerler Oluşturma\n",
    "### Belirtilen aralıkta değerler üretir. Başlangıç, bitiş ve adım belirlenebilir."
   ]
  },
  {
   "cell_type": "code",
   "execution_count": 6,
   "id": "9f37f5d9-a8b2-4677-84c6-803f7bbaf6ac",
   "metadata": {},
   "outputs": [
    {
     "name": "stdout",
     "output_type": "stream",
     "text": [
      "np.arange() Örneği: [0 2 4 6 8]\n"
     ]
    }
   ],
   "source": [
    "arr = np.arange(0, 10, 2)\n",
    "print(\"np.arange() Örneği:\", arr)"
   ]
  },
  {
   "cell_type": "markdown",
   "id": "00d7a6f0-5b7c-4d21-8d8e-0dc7b796f0ca",
   "metadata": {},
   "source": [
    "## np.zeros() - Sıfırlardan Oluşan Dizi\n",
    "### Belirtilen boyutla sıfırlardan oluşan bir dizi oluşturur."
   ]
  },
  {
   "cell_type": "code",
   "execution_count": 8,
   "id": "51bd50ba-2f3e-41b4-8afd-f1f3db1958c1",
   "metadata": {},
   "outputs": [
    {
     "name": "stdout",
     "output_type": "stream",
     "text": [
      "np.zeros() Örneği:\n",
      " [[0. 0. 0.]\n",
      " [0. 0. 0.]]\n"
     ]
    }
   ],
   "source": [
    "arr = np.zeros((2, 3))\n",
    "print(\"np.zeros() Örneği:\\n\", arr)"
   ]
  },
  {
   "cell_type": "markdown",
   "id": "d4495252-86b3-44a9-bdd1-77a561cff78d",
   "metadata": {},
   "source": [
    "## np.ones() - Birlerden Oluşan Dizi\n",
    "### Belirtilen boyutla birlerden oluşan bir dizi oluşturur."
   ]
  },
  {
   "cell_type": "code",
   "execution_count": 9,
   "id": "636f8e66-e984-4d17-9599-210ebae2b450",
   "metadata": {},
   "outputs": [
    {
     "name": "stdout",
     "output_type": "stream",
     "text": [
      "np.ones() Örneği:\n",
      " [[1. 1. 1.]\n",
      " [1. 1. 1.]\n",
      " [1. 1. 1.]]\n"
     ]
    }
   ],
   "source": [
    "arr = np.ones((3, 3))\n",
    "print(\"np.ones() Örneği:\\n\", arr)"
   ]
  },
  {
   "cell_type": "markdown",
   "id": "873e0858-695c-49c2-b365-24b01338d654",
   "metadata": {},
   "source": [
    "## np.linspace() - Eşit Aralıklarla Değerler Oluşturma\n",
    "### Belirtilen sayıda eşit aralıklarla değerler oluşturur."
   ]
  },
  {
   "cell_type": "code",
   "execution_count": 10,
   "id": "c4301aa0-883a-4499-b6c3-c201637cffef",
   "metadata": {},
   "outputs": [
    {
     "name": "stdout",
     "output_type": "stream",
     "text": [
      "np.linspace() Örneği: [0.   0.25 0.5  0.75 1.  ]\n"
     ]
    }
   ],
   "source": [
    "arr = np.linspace(0, 1, 5)\n",
    "print(\"np.linspace() Örneği:\", arr)"
   ]
  },
  {
   "cell_type": "markdown",
   "id": "db45c3fa-bf71-4d56-a30b-e9b08384801a",
   "metadata": {},
   "source": [
    "## np.random.rand() - Rastgele Sayılar Üretme (0 ile 1 arasında)\n",
    "### 0 ile 1 arasında rastgele sayılar üretir."
   ]
  },
  {
   "cell_type": "code",
   "execution_count": 11,
   "id": "41f91e35-c6bf-4776-9b43-5e0105a5086f",
   "metadata": {},
   "outputs": [
    {
     "name": "stdout",
     "output_type": "stream",
     "text": [
      "np.random.rand() Örneği:\n",
      " [[0.36774334 0.37162202]\n",
      " [0.64310521 0.73556424]\n",
      " [0.48700159 0.17648512]]\n"
     ]
    }
   ],
   "source": [
    "arr = np.random.rand(3, 2)\n",
    "print(\"np.random.rand() Örneği:\\n\", arr)"
   ]
  },
  {
   "cell_type": "markdown",
   "id": "3683b7af-ed9d-4134-a381-a7ecad74bf08",
   "metadata": {},
   "source": [
    "## np.sum() - Dizi Elemanlarının Toplamını Hesaplama\n",
    "### NumPy dizisinin elemanlarının toplamını hesaplar."
   ]
  },
  {
   "cell_type": "code",
   "execution_count": 12,
   "id": "5712df30-7e7e-4785-89c8-937d65ee9082",
   "metadata": {},
   "outputs": [
    {
     "name": "stdout",
     "output_type": "stream",
     "text": [
      "np.sum() Örneği: 15\n"
     ]
    }
   ],
   "source": [
    "arr = np.array([1, 2, 3, 4, 5])\n",
    "toplam = np.sum(arr)\n",
    "print(\"np.sum() Örneği:\", toplam)\n"
   ]
  },
  {
   "cell_type": "markdown",
   "id": "d138ebbb-1966-45eb-ac01-d6de3712a085",
   "metadata": {},
   "source": [
    "## np.mean() - Ortalama Hesaplama\n",
    "### NumPy dizisinin elemanlarının ortalamasını hesaplar."
   ]
  },
  {
   "cell_type": "code",
   "execution_count": 13,
   "id": "a6ed7afb-c190-449d-bb9d-c91a4d47498c",
   "metadata": {},
   "outputs": [
    {
     "name": "stdout",
     "output_type": "stream",
     "text": [
      "np.mean() Örneği: 3.0\n"
     ]
    }
   ],
   "source": [
    "ortalama = np.mean(arr)\n",
    "print(\"np.mean() Örneği:\", ortalama)"
   ]
  },
  {
   "cell_type": "markdown",
   "id": "e46c0d74-b0f2-4e34-9695-8f10fb30515b",
   "metadata": {},
   "source": [
    "## np.reshape() - Diziyi Yeniden Şekillendirme\n",
    "### NumPy dizisinin boyutlarını değiştirmeye yarar."
   ]
  },
  {
   "cell_type": "code",
   "execution_count": 14,
   "id": "0fd5635c-e8f3-49e2-837d-6dd9d061a867",
   "metadata": {},
   "outputs": [
    {
     "name": "stdout",
     "output_type": "stream",
     "text": [
      "np.reshape() Örneği:\n",
      " [[1 2 3]\n",
      " [4 5 6]]\n"
     ]
    }
   ],
   "source": [
    "arr = np.array([1, 2, 3, 4, 5, 6])\n",
    "yeni_arr = np.reshape(arr, (2, 3))\n",
    "print(\"np.reshape() Örneği:\\n\", yeni_arr)"
   ]
  },
  {
   "cell_type": "markdown",
   "id": "6be4e2e6-c2be-4d95-a2d7-ab927a789e1d",
   "metadata": {},
   "source": [
    "## np.dot() - Vektörlerin Skaler Çarpımı\n",
    "### İki vektörün skaler çarpımını hesaplar."
   ]
  },
  {
   "cell_type": "code",
   "execution_count": 15,
   "id": "8651a448-9cd4-4124-96c8-ca366693d25b",
   "metadata": {},
   "outputs": [
    {
     "name": "stdout",
     "output_type": "stream",
     "text": [
      "np.dot() Örneği: 32\n"
     ]
    }
   ],
   "source": [
    "vektor1 = np.array([1, 2, 3])\n",
    "vektor2 = np.array([4, 5, 6])\n",
    "skaler_carpim = np.dot(vektor1, vektor2)\n",
    "print(\"np.dot() Örneği:\", skaler_carpim)"
   ]
  },
  {
   "cell_type": "code",
   "execution_count": null,
   "id": "3f558508-d9ea-4bfb-8dcd-af7dd5c6037f",
   "metadata": {},
   "outputs": [],
   "source": []
  }
 ],
 "metadata": {
  "kernelspec": {
   "display_name": "Python 3 (ipykernel)",
   "language": "python",
   "name": "python3"
  },
  "language_info": {
   "codemirror_mode": {
    "name": "ipython",
    "version": 3
   },
   "file_extension": ".py",
   "mimetype": "text/x-python",
   "name": "python",
   "nbconvert_exporter": "python",
   "pygments_lexer": "ipython3",
   "version": "3.12.2"
  }
 },
 "nbformat": 4,
 "nbformat_minor": 5
}
