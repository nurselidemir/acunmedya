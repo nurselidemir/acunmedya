{
 "cells": [
  {
   "cell_type": "markdown",
   "id": "10fb2d42-a592-40fc-aae8-39cf6cfe4d69",
   "metadata": {},
   "source": [
    "#  OCR (Optik Karakter Tanıma) Nedir ve Nasıl Yapılır?\n",
    "\n",
    "##  OCR Nedir?\n",
    "\n",
    "**OCR (Optical Character Recognition)**, taranmış belgelerdeki, görsellerdeki ya da el yazısı metinlerdeki karakterleri tanıyıp dijital metne dönüştüren bir teknolojidir.\n",
    "\n",
    "Bu teknoloji sayesinde:\n",
    "- Görsellerden yazılar okunabilir,\n",
    "- Faturalar, fişler gibi belgeler dijitalleştirilebilir,\n",
    "- Görme engellilere yönelik uygulamalar geliştirilebilir,\n",
    "- Arama motorları görsellerdeki yazıları tanıyabilir."
   ]
  },
  {
   "cell_type": "markdown",
   "id": "29406218-61f4-462c-90b6-897192ea588b",
   "metadata": {},
   "source": [
    "## OCR Nasıl Çalışır?\n",
    "\n",
    "1. **Görüntü Ön İşleme (Preprocessing)**  \n",
    "   - Gürültü azaltma (Noise reduction)\n",
    "   - Gri tonlamaya çevirme\n",
    "   - Eşikleme (Thresholding)\n",
    "   - Kenar bulma (Edge detection)\n",
    "\n",
    "2. **Karakter Tanıma**  \n",
    "   - Segmentasyon: Harfleri ayırma\n",
    "   - Sınıflandırma: Her karakteri karşılık gelen harf/sayı ile eşleştirme\n",
    "\n",
    "3. **Doğruluk Artırma**  \n",
    "   - Dil modeli yardımıyla kelime tahmini\n",
    "   - Optimizasyon algoritmaları"
   ]
  },
  {
   "cell_type": "markdown",
   "id": "a892a643-6da0-4a77-86dc-e71adce9483f",
   "metadata": {},
   "source": [
    "##  Kullanılan Kütüphaneler\n",
    "\n",
    "- `OpenCV`: Görüntü işleme\n",
    "- `Pytesseract`: OCR işlemi\n",
    "- `PIL (Pillow)`: Görüntü yükleme ve işleme"
   ]
  },
  {
   "cell_type": "code",
   "execution_count": 6,
   "id": "be91afa4-3581-4dfe-9261-18140d1109e9",
   "metadata": {},
   "outputs": [
    {
     "name": "stdout",
     "output_type": "stream",
     "text": [
      "Requirement already satisfied: opencv-python in /opt/anaconda3/lib/python3.12/site-packages (4.11.0.86)\n",
      "Collecting pytesseract\n",
      "  Downloading pytesseract-0.3.13-py3-none-any.whl.metadata (11 kB)\n",
      "Requirement already satisfied: pillow in /opt/anaconda3/lib/python3.12/site-packages (10.4.0)\n",
      "Requirement already satisfied: numpy>=1.21.2 in /opt/anaconda3/lib/python3.12/site-packages (from opencv-python) (1.26.4)\n",
      "Requirement already satisfied: packaging>=21.3 in /opt/anaconda3/lib/python3.12/site-packages (from pytesseract) (24.1)\n",
      "Downloading pytesseract-0.3.13-py3-none-any.whl (14 kB)\n",
      "Installing collected packages: pytesseract\n",
      "Successfully installed pytesseract-0.3.13\n"
     ]
    }
   ],
   "source": [
    " !pip install opencv-python pytesseract pillow"
   ]
  },
  {
   "cell_type": "code",
   "execution_count": null,
   "id": "5d2cfda3-1e1a-4c13-9063-765048cab7a9",
   "metadata": {},
   "outputs": [],
   "source": []
  }
 ],
 "metadata": {
  "kernelspec": {
   "display_name": "Python [conda env:base] *",
   "language": "python",
   "name": "conda-base-py"
  },
  "language_info": {
   "codemirror_mode": {
    "name": "ipython",
    "version": 3
   },
   "file_extension": ".py",
   "mimetype": "text/x-python",
   "name": "python",
   "nbconvert_exporter": "python",
   "pygments_lexer": "ipython3",
   "version": "3.12.7"
  }
 },
 "nbformat": 4,
 "nbformat_minor": 5
}
